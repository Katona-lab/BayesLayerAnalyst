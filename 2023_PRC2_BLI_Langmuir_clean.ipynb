{
 "cells": [
  {
   "cell_type": "code",
   "execution_count": 1,
   "metadata": {},
   "outputs": [],
   "source": [
    "import numpy as np\n",
    "import pandas as pd\n",
    "import matplotlib.pyplot as plt\n",
    "import scipy\n",
    "from scipy import optimize\n",
    "import matplotlib.colors as mcolors\n",
    "import matplotlib.cm as cm\n",
    "import pymc3 as pm\n",
    "import arviz as az"
   ]
  },
  {
   "cell_type": "code",
   "execution_count": null,
   "metadata": {
    "scrolled": true
   },
   "outputs": [],
   "source": [
    "%matplotlib\n",
    "rows=[]\n",
    "mdf=pd.read_excel('mf_bli_final.xlsx')\n",
    "mdf\n",
    "\n",
    "for idx,mrow in mdf.iterrows():\n",
    "    df=pd.read_csv(mrow['root']+\"/\"+mrow['filename']+\".csv\",skiprows=mrow['skiprow'])\n",
    "    print(mrow['Peptide'])\n",
    "    rf=np.array(df[\" \"+mrow['RF']]-df[\" \"+mrow['RF']].iloc[mrow['as_start']])[mrow['as_start']:mrow['dis_end']]\n",
    "    rfc=np.array(df[\" \"+mrow['RFC']]-df[\" \"+mrow['RFC']].iloc[mrow['as_start']])[mrow['as_start']:mrow['dis_end']]\n",
    "    time=np.array(df['X Values']-df['X Values'].iloc[mrow['as_start']])[mrow['as_start']:mrow['dis_end']]\n",
    "    \n",
    "    row=pd.Series(rf).to_dict()\n",
    "    row['Peptide']=mrow['Peptide']\n",
    "    row['Type']='RF'\n",
    "    rows.append(row)\n",
    "    \n",
    "    row=pd.Series(rfc).to_dict()\n",
    "    row['Peptide']=mrow['Peptide']\n",
    "    row['Type']='RFC'\n",
    "    rows.append(row)\n",
    "    \n",
    "    row=pd.Series(time).to_dict()\n",
    "    row['Peptide']=mrow['Peptide']\n",
    "    row['Type']='time'\n",
    "    row['Phase']='full'\n",
    "    rows.append(row)\n",
    "    \n",
    "    row=pd.Series(time[mrow['as_start']:mrow['switch']]).to_dict()\n",
    "    row['Peptide']=mrow['Peptide']\n",
    "    row['Type']='time'\n",
    "    row['Phase']='as'\n",
    "    rows.append(row)\n",
    "    \n",
    "    row=pd.Series(time[mrow['switch']-mrow['dis_end']:]-time[mrow['switch']-mrow['dis_end']]).to_dict()\n",
    "    row['Peptide']=mrow['Peptide']\n",
    "    row['Type']='time'\n",
    "    row['Phase']='dis'\n",
    "    rows.append(row)\n",
    "\n",
    "    \n",
    "    for c in ['conc1','conc2','conc3','conc4','conc5','conc6']:\n",
    "        conc=np.array(df[\" \"+mrow[c]]-df[\" \"+mrow[c]].iloc[mrow['as_start']])[mrow['as_start']:mrow['dis_end']]-rf\n",
    "        row=pd.Series(conc).to_dict()\n",
    "        row['Peptide']=mrow['Peptide']\n",
    "        row['Conc']=c\n",
    "        row['Type']='pept'\n",
    "        row['Phase']='full'\n",
    "        rows.append(row)\n",
    "        \n",
    "        conc=np.array(df[\" \"+mrow[c]]-df[\" \"+mrow[c]].iloc[mrow['as_start']])[mrow['as_start']:mrow['switch']]-rf[mrow['as_start']:mrow['switch']]\n",
    "        row=pd.Series(conc).to_dict()\n",
    "        row['Peptide']=mrow['Peptide']\n",
    "        row['Conc']=c\n",
    "        row['Type']='pept'\n",
    "        row['Phase']='as'\n",
    "        rows.append(row)\n",
    "        \n",
    "        conc=np.array(df[\" \"+mrow[c]]-df[\" \"+mrow[c]].iloc[mrow['as_start']])[mrow['switch']:mrow['dis_end']]-rf[mrow['switch']-mrow['dis_end']:]\n",
    "        row=pd.Series(conc).to_dict()\n",
    "        row['Peptide']=mrow['Peptide']\n",
    "        row['Conc']=c\n",
    "        row['Type']='pept'\n",
    "        row['Phase']='dis'\n",
    "        rows.append(row)\n",
    "        \n",
    "    for c in ['conc1_C','conc2_C','conc3_C','conc4_C','conc5_C','conc6_C']:\n",
    "        conc=np.array(df[\" \"+mrow[c]]-df[\" \"+mrow[c]].iloc[mrow['as_start']])[mrow['as_start']:mrow['dis_end']]-rfc\n",
    "        row=pd.Series(conc).to_dict()\n",
    "        row['Peptide']=mrow['Peptide']\n",
    "        row['Conc']=c\n",
    "        row['Type']='ctrl'\n",
    "        rows.append(row)\n",
    "    plt.plot(time,conc)\n",
    "tf=pd.DataFrame(rows)\n",
    "tf"
   ]
  },
  {
   "cell_type": "code",
   "execution_count": 49,
   "metadata": {
    "scrolled": true
   },
   "outputs": [
    {
     "name": "stdout",
     "output_type": "stream",
     "text": [
      "EZH2_172-211_INVERSE conc1\n",
      "2.12e-05\n"
     ]
    },
    {
     "name": "stderr",
     "output_type": "stream",
     "text": [
      "Auto-assigning NUTS sampler...\n",
      "Initializing NUTS using advi...\n"
     ]
    },
    {
     "data": {
      "text/html": [
       "\n",
       "<style>\n",
       "    /* Turns off some styling */\n",
       "    progress {\n",
       "        /* gets rid of default border in Firefox and Opera. */\n",
       "        border: none;\n",
       "        /* Needs to be in here for Safari polyfill so background images work as expected. */\n",
       "        background-size: auto;\n",
       "    }\n",
       "    progress:not([value]), progress:not([value])::-webkit-progress-bar {\n",
       "        background: repeating-linear-gradient(45deg, #7e7e7e, #7e7e7e 10px, #5c5c5c 10px, #5c5c5c 20px);\n",
       "    }\n",
       "    .progress-bar-interrupted, .progress-bar-interrupted::-webkit-progress-bar {\n",
       "        background: #F44336;\n",
       "    }\n",
       "</style>\n"
      ],
      "text/plain": [
       "<IPython.core.display.HTML object>"
      ]
     },
     "metadata": {},
     "output_type": "display_data"
    },
    {
     "data": {
      "text/html": [
       "\n",
       "    <div>\n",
       "      <progress value='16312' class='' max='200000' style='width:300px; height:20px; vertical-align: middle;'></progress>\n",
       "      8.16% [16312/200000 00:04&lt;00:52 Average Loss = -18,818]\n",
       "    </div>\n",
       "    "
      ],
      "text/plain": [
       "<IPython.core.display.HTML object>"
      ]
     },
     "metadata": {},
     "output_type": "display_data"
    },
    {
     "name": "stderr",
     "output_type": "stream",
     "text": [
      "Convergence achieved at 16600\n",
      "Interrupted at 16,599 [8%]: Average Loss = 1.3137e+06\n",
      "Multiprocess sampling (4 chains in 4 jobs)\n",
      "NUTS: [kr1, l0, eps, A, KD]\n"
     ]
    },
    {
     "data": {
      "text/html": [
       "\n",
       "<style>\n",
       "    /* Turns off some styling */\n",
       "    progress {\n",
       "        /* gets rid of default border in Firefox and Opera. */\n",
       "        border: none;\n",
       "        /* Needs to be in here for Safari polyfill so background images work as expected. */\n",
       "        background-size: auto;\n",
       "    }\n",
       "    progress:not([value]), progress:not([value])::-webkit-progress-bar {\n",
       "        background: repeating-linear-gradient(45deg, #7e7e7e, #7e7e7e 10px, #5c5c5c 10px, #5c5c5c 20px);\n",
       "    }\n",
       "    .progress-bar-interrupted, .progress-bar-interrupted::-webkit-progress-bar {\n",
       "        background: #F44336;\n",
       "    }\n",
       "</style>\n"
      ],
      "text/plain": [
       "<IPython.core.display.HTML object>"
      ]
     },
     "metadata": {},
     "output_type": "display_data"
    },
    {
     "data": {
      "text/html": [
       "\n",
       "    <div>\n",
       "      <progress value='44000' class='' max='44000' style='width:300px; height:20px; vertical-align: middle;'></progress>\n",
       "      100.00% [44000/44000 22:31&lt;00:00 Sampling 4 chains, 0 divergences]\n",
       "    </div>\n",
       "    "
      ],
      "text/plain": [
       "<IPython.core.display.HTML object>"
      ]
     },
     "metadata": {},
     "output_type": "display_data"
    },
    {
     "name": "stderr",
     "output_type": "stream",
     "text": [
      "Sampling 4 chains for 10_000 tune and 1_000 draw iterations (40_000 + 4_000 draws total) took 1352 seconds.\n",
      "The chain reached the maximum tree depth. Increase max_treedepth, increase target_accept or reparameterize.\n",
      "The chain reached the maximum tree depth. Increase max_treedepth, increase target_accept or reparameterize.\n",
      "The chain reached the maximum tree depth. Increase max_treedepth, increase target_accept or reparameterize.\n",
      "The chain reached the maximum tree depth. Increase max_treedepth, increase target_accept or reparameterize.\n",
      "The estimated number of effective samples is smaller than 200 for some parameters.\n",
      "/home/gergely/anaconda3/lib/python3.7/site-packages/pymc3/sampling.py:1618: UserWarning: samples parameter is smaller than nchains times ndraws, some draws and/or chains may not be represented in the returned posterior predictive sample\n",
      "  \"samples parameter is smaller than nchains times ndraws, some draws \"\n"
     ]
    },
    {
     "data": {
      "text/html": [
       "\n",
       "<style>\n",
       "    /* Turns off some styling */\n",
       "    progress {\n",
       "        /* gets rid of default border in Firefox and Opera. */\n",
       "        border: none;\n",
       "        /* Needs to be in here for Safari polyfill so background images work as expected. */\n",
       "        background-size: auto;\n",
       "    }\n",
       "    progress:not([value]), progress:not([value])::-webkit-progress-bar {\n",
       "        background: repeating-linear-gradient(45deg, #7e7e7e, #7e7e7e 10px, #5c5c5c 10px, #5c5c5c 20px);\n",
       "    }\n",
       "    .progress-bar-interrupted, .progress-bar-interrupted::-webkit-progress-bar {\n",
       "        background: #F44336;\n",
       "    }\n",
       "</style>\n"
      ],
      "text/plain": [
       "<IPython.core.display.HTML object>"
      ]
     },
     "metadata": {},
     "output_type": "display_data"
    },
    {
     "data": {
      "text/html": [
       "\n",
       "    <div>\n",
       "      <progress value='1000' class='' max='1000' style='width:300px; height:20px; vertical-align: middle;'></progress>\n",
       "      100.00% [1000/1000 00:01&lt;00:00]\n",
       "    </div>\n",
       "    "
      ],
      "text/plain": [
       "<IPython.core.display.HTML object>"
      ]
     },
     "metadata": {},
     "output_type": "display_data"
    },
    {
     "name": "stdout",
     "output_type": "stream",
     "text": [
      "EZH2_172-211_INVERSE conc2\n",
      "2.12e-06\n"
     ]
    },
    {
     "name": "stderr",
     "output_type": "stream",
     "text": [
      "Auto-assigning NUTS sampler...\n",
      "Initializing NUTS using advi...\n"
     ]
    },
    {
     "data": {
      "text/html": [
       "\n",
       "<style>\n",
       "    /* Turns off some styling */\n",
       "    progress {\n",
       "        /* gets rid of default border in Firefox and Opera. */\n",
       "        border: none;\n",
       "        /* Needs to be in here for Safari polyfill so background images work as expected. */\n",
       "        background-size: auto;\n",
       "    }\n",
       "    progress:not([value]), progress:not([value])::-webkit-progress-bar {\n",
       "        background: repeating-linear-gradient(45deg, #7e7e7e, #7e7e7e 10px, #5c5c5c 10px, #5c5c5c 20px);\n",
       "    }\n",
       "    .progress-bar-interrupted, .progress-bar-interrupted::-webkit-progress-bar {\n",
       "        background: #F44336;\n",
       "    }\n",
       "</style>\n"
      ],
      "text/plain": [
       "<IPython.core.display.HTML object>"
      ]
     },
     "metadata": {},
     "output_type": "display_data"
    },
    {
     "data": {
      "text/html": [
       "\n",
       "    <div>\n",
       "      <progress value='18416' class='' max='200000' style='width:300px; height:20px; vertical-align: middle;'></progress>\n",
       "      9.21% [18416/200000 00:05&lt;00:53 Average Loss = -26,496]\n",
       "    </div>\n",
       "    "
      ],
      "text/plain": [
       "<IPython.core.display.HTML object>"
      ]
     },
     "metadata": {},
     "output_type": "display_data"
    },
    {
     "name": "stderr",
     "output_type": "stream",
     "text": [
      "Convergence achieved at 18900\n",
      "Interrupted at 18,899 [9%]: Average Loss = 3.4711e+06\n",
      "Multiprocess sampling (4 chains in 4 jobs)\n",
      "NUTS: [kr1, l0, eps, A, KD]\n"
     ]
    },
    {
     "data": {
      "text/html": [
       "\n",
       "<style>\n",
       "    /* Turns off some styling */\n",
       "    progress {\n",
       "        /* gets rid of default border in Firefox and Opera. */\n",
       "        border: none;\n",
       "        /* Needs to be in here for Safari polyfill so background images work as expected. */\n",
       "        background-size: auto;\n",
       "    }\n",
       "    progress:not([value]), progress:not([value])::-webkit-progress-bar {\n",
       "        background: repeating-linear-gradient(45deg, #7e7e7e, #7e7e7e 10px, #5c5c5c 10px, #5c5c5c 20px);\n",
       "    }\n",
       "    .progress-bar-interrupted, .progress-bar-interrupted::-webkit-progress-bar {\n",
       "        background: #F44336;\n",
       "    }\n",
       "</style>\n"
      ],
      "text/plain": [
       "<IPython.core.display.HTML object>"
      ]
     },
     "metadata": {},
     "output_type": "display_data"
    },
    {
     "data": {
      "text/html": [
       "\n",
       "    <div>\n",
       "      <progress value='44000' class='' max='44000' style='width:300px; height:20px; vertical-align: middle;'></progress>\n",
       "      100.00% [44000/44000 16:29&lt;00:00 Sampling 4 chains, 0 divergences]\n",
       "    </div>\n",
       "    "
      ],
      "text/plain": [
       "<IPython.core.display.HTML object>"
      ]
     },
     "metadata": {},
     "output_type": "display_data"
    },
    {
     "name": "stderr",
     "output_type": "stream",
     "text": [
      "Sampling 4 chains for 10_000 tune and 1_000 draw iterations (40_000 + 4_000 draws total) took 990 seconds.\n",
      "The chain reached the maximum tree depth. Increase max_treedepth, increase target_accept or reparameterize.\n",
      "The chain reached the maximum tree depth. Increase max_treedepth, increase target_accept or reparameterize.\n",
      "The chain reached the maximum tree depth. Increase max_treedepth, increase target_accept or reparameterize.\n",
      "The chain reached the maximum tree depth. Increase max_treedepth, increase target_accept or reparameterize.\n",
      "The estimated number of effective samples is smaller than 200 for some parameters.\n",
      "/home/gergely/anaconda3/lib/python3.7/site-packages/pymc3/sampling.py:1618: UserWarning: samples parameter is smaller than nchains times ndraws, some draws and/or chains may not be represented in the returned posterior predictive sample\n",
      "  \"samples parameter is smaller than nchains times ndraws, some draws \"\n"
     ]
    },
    {
     "data": {
      "text/html": [
       "\n",
       "<style>\n",
       "    /* Turns off some styling */\n",
       "    progress {\n",
       "        /* gets rid of default border in Firefox and Opera. */\n",
       "        border: none;\n",
       "        /* Needs to be in here for Safari polyfill so background images work as expected. */\n",
       "        background-size: auto;\n",
       "    }\n",
       "    progress:not([value]), progress:not([value])::-webkit-progress-bar {\n",
       "        background: repeating-linear-gradient(45deg, #7e7e7e, #7e7e7e 10px, #5c5c5c 10px, #5c5c5c 20px);\n",
       "    }\n",
       "    .progress-bar-interrupted, .progress-bar-interrupted::-webkit-progress-bar {\n",
       "        background: #F44336;\n",
       "    }\n",
       "</style>\n"
      ],
      "text/plain": [
       "<IPython.core.display.HTML object>"
      ]
     },
     "metadata": {},
     "output_type": "display_data"
    },
    {
     "data": {
      "text/html": [
       "\n",
       "    <div>\n",
       "      <progress value='1000' class='' max='1000' style='width:300px; height:20px; vertical-align: middle;'></progress>\n",
       "      100.00% [1000/1000 00:01&lt;00:00]\n",
       "    </div>\n",
       "    "
      ],
      "text/plain": [
       "<IPython.core.display.HTML object>"
      ]
     },
     "metadata": {},
     "output_type": "display_data"
    },
    {
     "name": "stdout",
     "output_type": "stream",
     "text": [
      "EZH2_172-211_INVERSE conc3\n",
      "2.12e-07\n"
     ]
    },
    {
     "name": "stderr",
     "output_type": "stream",
     "text": [
      "Auto-assigning NUTS sampler...\n",
      "Initializing NUTS using advi...\n"
     ]
    },
    {
     "data": {
      "text/html": [
       "\n",
       "<style>\n",
       "    /* Turns off some styling */\n",
       "    progress {\n",
       "        /* gets rid of default border in Firefox and Opera. */\n",
       "        border: none;\n",
       "        /* Needs to be in here for Safari polyfill so background images work as expected. */\n",
       "        background-size: auto;\n",
       "    }\n",
       "    progress:not([value]), progress:not([value])::-webkit-progress-bar {\n",
       "        background: repeating-linear-gradient(45deg, #7e7e7e, #7e7e7e 10px, #5c5c5c 10px, #5c5c5c 20px);\n",
       "    }\n",
       "    .progress-bar-interrupted, .progress-bar-interrupted::-webkit-progress-bar {\n",
       "        background: #F44336;\n",
       "    }\n",
       "</style>\n"
      ],
      "text/plain": [
       "<IPython.core.display.HTML object>"
      ]
     },
     "metadata": {},
     "output_type": "display_data"
    },
    {
     "data": {
      "text/html": [
       "\n",
       "    <div>\n",
       "      <progress value='23610' class='' max='200000' style='width:300px; height:20px; vertical-align: middle;'></progress>\n",
       "      11.80% [23610/200000 00:06&lt;00:50 Average Loss = -33,106]\n",
       "    </div>\n",
       "    "
      ],
      "text/plain": [
       "<IPython.core.display.HTML object>"
      ]
     },
     "metadata": {},
     "output_type": "display_data"
    },
    {
     "name": "stderr",
     "output_type": "stream",
     "text": [
      "Convergence achieved at 24200\n",
      "Interrupted at 24,199 [12%]: Average Loss = 1.2979e+06\n",
      "Multiprocess sampling (4 chains in 4 jobs)\n",
      "NUTS: [kr1, l0, eps, A, KD]\n"
     ]
    },
    {
     "data": {
      "text/html": [
       "\n",
       "<style>\n",
       "    /* Turns off some styling */\n",
       "    progress {\n",
       "        /* gets rid of default border in Firefox and Opera. */\n",
       "        border: none;\n",
       "        /* Needs to be in here for Safari polyfill so background images work as expected. */\n",
       "        background-size: auto;\n",
       "    }\n",
       "    progress:not([value]), progress:not([value])::-webkit-progress-bar {\n",
       "        background: repeating-linear-gradient(45deg, #7e7e7e, #7e7e7e 10px, #5c5c5c 10px, #5c5c5c 20px);\n",
       "    }\n",
       "    .progress-bar-interrupted, .progress-bar-interrupted::-webkit-progress-bar {\n",
       "        background: #F44336;\n",
       "    }\n",
       "</style>\n"
      ],
      "text/plain": [
       "<IPython.core.display.HTML object>"
      ]
     },
     "metadata": {},
     "output_type": "display_data"
    },
    {
     "data": {
      "text/html": [
       "\n",
       "    <div>\n",
       "      <progress value='44000' class='' max='44000' style='width:300px; height:20px; vertical-align: middle;'></progress>\n",
       "      100.00% [44000/44000 12:58&lt;00:00 Sampling 4 chains, 0 divergences]\n",
       "    </div>\n",
       "    "
      ],
      "text/plain": [
       "<IPython.core.display.HTML object>"
      ]
     },
     "metadata": {},
     "output_type": "display_data"
    },
    {
     "name": "stderr",
     "output_type": "stream",
     "text": [
      "Sampling 4 chains for 10_000 tune and 1_000 draw iterations (40_000 + 4_000 draws total) took 779 seconds.\n",
      "The chain reached the maximum tree depth. Increase max_treedepth, increase target_accept or reparameterize.\n",
      "The chain reached the maximum tree depth. Increase max_treedepth, increase target_accept or reparameterize.\n",
      "The chain reached the maximum tree depth. Increase max_treedepth, increase target_accept or reparameterize.\n",
      "The chain reached the maximum tree depth. Increase max_treedepth, increase target_accept or reparameterize.\n",
      "The estimated number of effective samples is smaller than 200 for some parameters.\n",
      "/home/gergely/anaconda3/lib/python3.7/site-packages/pymc3/sampling.py:1618: UserWarning: samples parameter is smaller than nchains times ndraws, some draws and/or chains may not be represented in the returned posterior predictive sample\n",
      "  \"samples parameter is smaller than nchains times ndraws, some draws \"\n"
     ]
    },
    {
     "data": {
      "text/html": [
       "\n",
       "<style>\n",
       "    /* Turns off some styling */\n",
       "    progress {\n",
       "        /* gets rid of default border in Firefox and Opera. */\n",
       "        border: none;\n",
       "        /* Needs to be in here for Safari polyfill so background images work as expected. */\n",
       "        background-size: auto;\n",
       "    }\n",
       "    progress:not([value]), progress:not([value])::-webkit-progress-bar {\n",
       "        background: repeating-linear-gradient(45deg, #7e7e7e, #7e7e7e 10px, #5c5c5c 10px, #5c5c5c 20px);\n",
       "    }\n",
       "    .progress-bar-interrupted, .progress-bar-interrupted::-webkit-progress-bar {\n",
       "        background: #F44336;\n",
       "    }\n",
       "</style>\n"
      ],
      "text/plain": [
       "<IPython.core.display.HTML object>"
      ]
     },
     "metadata": {},
     "output_type": "display_data"
    },
    {
     "data": {
      "text/html": [
       "\n",
       "    <div>\n",
       "      <progress value='1000' class='' max='1000' style='width:300px; height:20px; vertical-align: middle;'></progress>\n",
       "      100.00% [1000/1000 00:01&lt;00:00]\n",
       "    </div>\n",
       "    "
      ],
      "text/plain": [
       "<IPython.core.display.HTML object>"
      ]
     },
     "metadata": {},
     "output_type": "display_data"
    },
    {
     "name": "stdout",
     "output_type": "stream",
     "text": [
      "EZH2_172-211_INVERSE conc4\n",
      "2.12e-08\n"
     ]
    },
    {
     "name": "stderr",
     "output_type": "stream",
     "text": [
      "Auto-assigning NUTS sampler...\n",
      "Initializing NUTS using advi...\n"
     ]
    },
    {
     "data": {
      "text/html": [
       "\n",
       "<style>\n",
       "    /* Turns off some styling */\n",
       "    progress {\n",
       "        /* gets rid of default border in Firefox and Opera. */\n",
       "        border: none;\n",
       "        /* Needs to be in here for Safari polyfill so background images work as expected. */\n",
       "        background-size: auto;\n",
       "    }\n",
       "    progress:not([value]), progress:not([value])::-webkit-progress-bar {\n",
       "        background: repeating-linear-gradient(45deg, #7e7e7e, #7e7e7e 10px, #5c5c5c 10px, #5c5c5c 20px);\n",
       "    }\n",
       "    .progress-bar-interrupted, .progress-bar-interrupted::-webkit-progress-bar {\n",
       "        background: #F44336;\n",
       "    }\n",
       "</style>\n"
      ],
      "text/plain": [
       "<IPython.core.display.HTML object>"
      ]
     },
     "metadata": {},
     "output_type": "display_data"
    },
    {
     "data": {
      "text/html": [
       "\n",
       "    <div>\n",
       "      <progress value='24598' class='' max='200000' style='width:300px; height:20px; vertical-align: middle;'></progress>\n",
       "      12.30% [24598/200000 00:07&lt;00:51 Average Loss = -44,092]\n",
       "    </div>\n",
       "    "
      ],
      "text/plain": [
       "<IPython.core.display.HTML object>"
      ]
     },
     "metadata": {},
     "output_type": "display_data"
    },
    {
     "name": "stderr",
     "output_type": "stream",
     "text": [
      "Convergence achieved at 25000\n",
      "Interrupted at 24,999 [12%]: Average Loss = 8.7642e+05\n",
      "Multiprocess sampling (4 chains in 4 jobs)\n",
      "NUTS: [kr1, l0, eps, A, KD]\n"
     ]
    },
    {
     "data": {
      "text/html": [
       "\n",
       "<style>\n",
       "    /* Turns off some styling */\n",
       "    progress {\n",
       "        /* gets rid of default border in Firefox and Opera. */\n",
       "        border: none;\n",
       "        /* Needs to be in here for Safari polyfill so background images work as expected. */\n",
       "        background-size: auto;\n",
       "    }\n",
       "    progress:not([value]), progress:not([value])::-webkit-progress-bar {\n",
       "        background: repeating-linear-gradient(45deg, #7e7e7e, #7e7e7e 10px, #5c5c5c 10px, #5c5c5c 20px);\n",
       "    }\n",
       "    .progress-bar-interrupted, .progress-bar-interrupted::-webkit-progress-bar {\n",
       "        background: #F44336;\n",
       "    }\n",
       "</style>\n"
      ],
      "text/plain": [
       "<IPython.core.display.HTML object>"
      ]
     },
     "metadata": {},
     "output_type": "display_data"
    },
    {
     "data": {
      "text/html": [
       "\n",
       "    <div>\n",
       "      <progress value='44000' class='' max='44000' style='width:300px; height:20px; vertical-align: middle;'></progress>\n",
       "      100.00% [44000/44000 03:14&lt;00:00 Sampling 4 chains, 0 divergences]\n",
       "    </div>\n",
       "    "
      ],
      "text/plain": [
       "<IPython.core.display.HTML object>"
      ]
     },
     "metadata": {},
     "output_type": "display_data"
    },
    {
     "name": "stderr",
     "output_type": "stream",
     "text": [
      "Sampling 4 chains for 10_000 tune and 1_000 draw iterations (40_000 + 4_000 draws total) took 195 seconds.\n",
      "The number of effective samples is smaller than 10% for some parameters.\n",
      "/home/gergely/anaconda3/lib/python3.7/site-packages/pymc3/sampling.py:1618: UserWarning: samples parameter is smaller than nchains times ndraws, some draws and/or chains may not be represented in the returned posterior predictive sample\n",
      "  \"samples parameter is smaller than nchains times ndraws, some draws \"\n"
     ]
    },
    {
     "data": {
      "text/html": [
       "\n",
       "<style>\n",
       "    /* Turns off some styling */\n",
       "    progress {\n",
       "        /* gets rid of default border in Firefox and Opera. */\n",
       "        border: none;\n",
       "        /* Needs to be in here for Safari polyfill so background images work as expected. */\n",
       "        background-size: auto;\n",
       "    }\n",
       "    progress:not([value]), progress:not([value])::-webkit-progress-bar {\n",
       "        background: repeating-linear-gradient(45deg, #7e7e7e, #7e7e7e 10px, #5c5c5c 10px, #5c5c5c 20px);\n",
       "    }\n",
       "    .progress-bar-interrupted, .progress-bar-interrupted::-webkit-progress-bar {\n",
       "        background: #F44336;\n",
       "    }\n",
       "</style>\n"
      ],
      "text/plain": [
       "<IPython.core.display.HTML object>"
      ]
     },
     "metadata": {},
     "output_type": "display_data"
    },
    {
     "data": {
      "text/html": [
       "\n",
       "    <div>\n",
       "      <progress value='1000' class='' max='1000' style='width:300px; height:20px; vertical-align: middle;'></progress>\n",
       "      100.00% [1000/1000 00:01&lt;00:00]\n",
       "    </div>\n",
       "    "
      ],
      "text/plain": [
       "<IPython.core.display.HTML object>"
      ]
     },
     "metadata": {},
     "output_type": "display_data"
    },
    {
     "name": "stdout",
     "output_type": "stream",
     "text": [
      "EZH2_172-211 conc1\n",
      "1e-07\n"
     ]
    },
    {
     "name": "stderr",
     "output_type": "stream",
     "text": [
      "Auto-assigning NUTS sampler...\n",
      "Initializing NUTS using advi...\n"
     ]
    },
    {
     "data": {
      "text/html": [
       "\n",
       "<style>\n",
       "    /* Turns off some styling */\n",
       "    progress {\n",
       "        /* gets rid of default border in Firefox and Opera. */\n",
       "        border: none;\n",
       "        /* Needs to be in here for Safari polyfill so background images work as expected. */\n",
       "        background-size: auto;\n",
       "    }\n",
       "    progress:not([value]), progress:not([value])::-webkit-progress-bar {\n",
       "        background: repeating-linear-gradient(45deg, #7e7e7e, #7e7e7e 10px, #5c5c5c 10px, #5c5c5c 20px);\n",
       "    }\n",
       "    .progress-bar-interrupted, .progress-bar-interrupted::-webkit-progress-bar {\n",
       "        background: #F44336;\n",
       "    }\n",
       "</style>\n"
      ],
      "text/plain": [
       "<IPython.core.display.HTML object>"
      ]
     },
     "metadata": {},
     "output_type": "display_data"
    },
    {
     "data": {
      "text/html": [
       "\n",
       "    <div>\n",
       "      <progress value='12999' class='' max='200000' style='width:300px; height:20px; vertical-align: middle;'></progress>\n",
       "      6.50% [12999/200000 00:03&lt;00:55 Average Loss = 1,578.5]\n",
       "    </div>\n",
       "    "
      ],
      "text/plain": [
       "<IPython.core.display.HTML object>"
      ]
     },
     "metadata": {},
     "output_type": "display_data"
    },
    {
     "name": "stderr",
     "output_type": "stream",
     "text": [
      "Convergence achieved at 13600\n",
      "Interrupted at 13,599 [6%]: Average Loss = 1.2451e+06\n",
      "Multiprocess sampling (4 chains in 4 jobs)\n",
      "NUTS: [kr1, l0, eps, A, KD]\n"
     ]
    },
    {
     "data": {
      "text/html": [
       "\n",
       "<style>\n",
       "    /* Turns off some styling */\n",
       "    progress {\n",
       "        /* gets rid of default border in Firefox and Opera. */\n",
       "        border: none;\n",
       "        /* Needs to be in here for Safari polyfill so background images work as expected. */\n",
       "        background-size: auto;\n",
       "    }\n",
       "    progress:not([value]), progress:not([value])::-webkit-progress-bar {\n",
       "        background: repeating-linear-gradient(45deg, #7e7e7e, #7e7e7e 10px, #5c5c5c 10px, #5c5c5c 20px);\n",
       "    }\n",
       "    .progress-bar-interrupted, .progress-bar-interrupted::-webkit-progress-bar {\n",
       "        background: #F44336;\n",
       "    }\n",
       "</style>\n"
      ],
      "text/plain": [
       "<IPython.core.display.HTML object>"
      ]
     },
     "metadata": {},
     "output_type": "display_data"
    },
    {
     "data": {
      "text/html": [
       "\n",
       "    <div>\n",
       "      <progress value='44000' class='' max='44000' style='width:300px; height:20px; vertical-align: middle;'></progress>\n",
       "      100.00% [44000/44000 03:51&lt;00:00 Sampling 4 chains, 0 divergences]\n",
       "    </div>\n",
       "    "
      ],
      "text/plain": [
       "<IPython.core.display.HTML object>"
      ]
     },
     "metadata": {},
     "output_type": "display_data"
    },
    {
     "name": "stderr",
     "output_type": "stream",
     "text": [
      "Sampling 4 chains for 10_000 tune and 1_000 draw iterations (40_000 + 4_000 draws total) took 232 seconds.\n",
      "The number of effective samples is smaller than 25% for some parameters.\n",
      "/home/gergely/anaconda3/lib/python3.7/site-packages/pymc3/sampling.py:1618: UserWarning: samples parameter is smaller than nchains times ndraws, some draws and/or chains may not be represented in the returned posterior predictive sample\n",
      "  \"samples parameter is smaller than nchains times ndraws, some draws \"\n"
     ]
    },
    {
     "data": {
      "text/html": [
       "\n",
       "<style>\n",
       "    /* Turns off some styling */\n",
       "    progress {\n",
       "        /* gets rid of default border in Firefox and Opera. */\n",
       "        border: none;\n",
       "        /* Needs to be in here for Safari polyfill so background images work as expected. */\n",
       "        background-size: auto;\n",
       "    }\n",
       "    progress:not([value]), progress:not([value])::-webkit-progress-bar {\n",
       "        background: repeating-linear-gradient(45deg, #7e7e7e, #7e7e7e 10px, #5c5c5c 10px, #5c5c5c 20px);\n",
       "    }\n",
       "    .progress-bar-interrupted, .progress-bar-interrupted::-webkit-progress-bar {\n",
       "        background: #F44336;\n",
       "    }\n",
       "</style>\n"
      ],
      "text/plain": [
       "<IPython.core.display.HTML object>"
      ]
     },
     "metadata": {},
     "output_type": "display_data"
    },
    {
     "data": {
      "text/html": [
       "\n",
       "    <div>\n",
       "      <progress value='1000' class='' max='1000' style='width:300px; height:20px; vertical-align: middle;'></progress>\n",
       "      100.00% [1000/1000 00:01&lt;00:00]\n",
       "    </div>\n",
       "    "
      ],
      "text/plain": [
       "<IPython.core.display.HTML object>"
      ]
     },
     "metadata": {},
     "output_type": "display_data"
    },
    {
     "name": "stdout",
     "output_type": "stream",
     "text": [
      "EZH2_172-211 conc2\n",
      "3.3e-08\n"
     ]
    },
    {
     "name": "stderr",
     "output_type": "stream",
     "text": [
      "Auto-assigning NUTS sampler...\n",
      "Initializing NUTS using advi...\n"
     ]
    },
    {
     "data": {
      "text/html": [
       "\n",
       "<style>\n",
       "    /* Turns off some styling */\n",
       "    progress {\n",
       "        /* gets rid of default border in Firefox and Opera. */\n",
       "        border: none;\n",
       "        /* Needs to be in here for Safari polyfill so background images work as expected. */\n",
       "        background-size: auto;\n",
       "    }\n",
       "    progress:not([value]), progress:not([value])::-webkit-progress-bar {\n",
       "        background: repeating-linear-gradient(45deg, #7e7e7e, #7e7e7e 10px, #5c5c5c 10px, #5c5c5c 20px);\n",
       "    }\n",
       "    .progress-bar-interrupted, .progress-bar-interrupted::-webkit-progress-bar {\n",
       "        background: #F44336;\n",
       "    }\n",
       "</style>\n"
      ],
      "text/plain": [
       "<IPython.core.display.HTML object>"
      ]
     },
     "metadata": {},
     "output_type": "display_data"
    },
    {
     "data": {
      "text/html": [
       "\n",
       "    <div>\n",
       "      <progress value='19334' class='' max='200000' style='width:300px; height:20px; vertical-align: middle;'></progress>\n",
       "      9.67% [19334/200000 00:05&lt;00:52 Average Loss = -10,809]\n",
       "    </div>\n",
       "    "
      ],
      "text/plain": [
       "<IPython.core.display.HTML object>"
      ]
     },
     "metadata": {},
     "output_type": "display_data"
    },
    {
     "name": "stderr",
     "output_type": "stream",
     "text": [
      "Convergence achieved at 20000\n",
      "Interrupted at 19,999 [9%]: Average Loss = 1.7224e+06\n",
      "Multiprocess sampling (4 chains in 4 jobs)\n",
      "NUTS: [kr1, l0, eps, A, KD]\n"
     ]
    },
    {
     "data": {
      "text/html": [
       "\n",
       "<style>\n",
       "    /* Turns off some styling */\n",
       "    progress {\n",
       "        /* gets rid of default border in Firefox and Opera. */\n",
       "        border: none;\n",
       "        /* Needs to be in here for Safari polyfill so background images work as expected. */\n",
       "        background-size: auto;\n",
       "    }\n",
       "    progress:not([value]), progress:not([value])::-webkit-progress-bar {\n",
       "        background: repeating-linear-gradient(45deg, #7e7e7e, #7e7e7e 10px, #5c5c5c 10px, #5c5c5c 20px);\n",
       "    }\n",
       "    .progress-bar-interrupted, .progress-bar-interrupted::-webkit-progress-bar {\n",
       "        background: #F44336;\n",
       "    }\n",
       "</style>\n"
      ],
      "text/plain": [
       "<IPython.core.display.HTML object>"
      ]
     },
     "metadata": {},
     "output_type": "display_data"
    },
    {
     "data": {
      "text/html": [
       "\n",
       "    <div>\n",
       "      <progress value='44000' class='' max='44000' style='width:300px; height:20px; vertical-align: middle;'></progress>\n",
       "      100.00% [44000/44000 06:16&lt;00:00 Sampling 4 chains, 0 divergences]\n",
       "    </div>\n",
       "    "
      ],
      "text/plain": [
       "<IPython.core.display.HTML object>"
      ]
     },
     "metadata": {},
     "output_type": "display_data"
    },
    {
     "name": "stderr",
     "output_type": "stream",
     "text": [
      "Sampling 4 chains for 10_000 tune and 1_000 draw iterations (40_000 + 4_000 draws total) took 377 seconds.\n",
      "The number of effective samples is smaller than 25% for some parameters.\n",
      "/home/gergely/anaconda3/lib/python3.7/site-packages/pymc3/sampling.py:1618: UserWarning: samples parameter is smaller than nchains times ndraws, some draws and/or chains may not be represented in the returned posterior predictive sample\n",
      "  \"samples parameter is smaller than nchains times ndraws, some draws \"\n"
     ]
    },
    {
     "data": {
      "text/html": [
       "\n",
       "<style>\n",
       "    /* Turns off some styling */\n",
       "    progress {\n",
       "        /* gets rid of default border in Firefox and Opera. */\n",
       "        border: none;\n",
       "        /* Needs to be in here for Safari polyfill so background images work as expected. */\n",
       "        background-size: auto;\n",
       "    }\n",
       "    progress:not([value]), progress:not([value])::-webkit-progress-bar {\n",
       "        background: repeating-linear-gradient(45deg, #7e7e7e, #7e7e7e 10px, #5c5c5c 10px, #5c5c5c 20px);\n",
       "    }\n",
       "    .progress-bar-interrupted, .progress-bar-interrupted::-webkit-progress-bar {\n",
       "        background: #F44336;\n",
       "    }\n",
       "</style>\n"
      ],
      "text/plain": [
       "<IPython.core.display.HTML object>"
      ]
     },
     "metadata": {},
     "output_type": "display_data"
    },
    {
     "data": {
      "text/html": [
       "\n",
       "    <div>\n",
       "      <progress value='1000' class='' max='1000' style='width:300px; height:20px; vertical-align: middle;'></progress>\n",
       "      100.00% [1000/1000 00:01&lt;00:00]\n",
       "    </div>\n",
       "    "
      ],
      "text/plain": [
       "<IPython.core.display.HTML object>"
      ]
     },
     "metadata": {},
     "output_type": "display_data"
    },
    {
     "name": "stdout",
     "output_type": "stream",
     "text": [
      "EZH2_172-211 conc3\n",
      "1.1e-08\n"
     ]
    },
    {
     "name": "stderr",
     "output_type": "stream",
     "text": [
      "Auto-assigning NUTS sampler...\n",
      "Initializing NUTS using advi...\n"
     ]
    },
    {
     "data": {
      "text/html": [
       "\n",
       "<style>\n",
       "    /* Turns off some styling */\n",
       "    progress {\n",
       "        /* gets rid of default border in Firefox and Opera. */\n",
       "        border: none;\n",
       "        /* Needs to be in here for Safari polyfill so background images work as expected. */\n",
       "        background-size: auto;\n",
       "    }\n",
       "    progress:not([value]), progress:not([value])::-webkit-progress-bar {\n",
       "        background: repeating-linear-gradient(45deg, #7e7e7e, #7e7e7e 10px, #5c5c5c 10px, #5c5c5c 20px);\n",
       "    }\n",
       "    .progress-bar-interrupted, .progress-bar-interrupted::-webkit-progress-bar {\n",
       "        background: #F44336;\n",
       "    }\n",
       "</style>\n"
      ],
      "text/plain": [
       "<IPython.core.display.HTML object>"
      ]
     },
     "metadata": {},
     "output_type": "display_data"
    },
    {
     "data": {
      "text/html": [
       "\n",
       "    <div>\n",
       "      <progress value='17793' class='' max='200000' style='width:300px; height:20px; vertical-align: middle;'></progress>\n",
       "      8.90% [17793/200000 00:05&lt;00:53 Average Loss = 63,856]\n",
       "    </div>\n",
       "    "
      ],
      "text/plain": [
       "<IPython.core.display.HTML object>"
      ]
     },
     "metadata": {},
     "output_type": "display_data"
    },
    {
     "name": "stderr",
     "output_type": "stream",
     "text": [
      "Convergence achieved at 18000\n",
      "Interrupted at 17,999 [8%]: Average Loss = 3.358e+07\n",
      "Multiprocess sampling (4 chains in 4 jobs)\n",
      "NUTS: [kr1, l0, eps, A, KD]\n"
     ]
    },
    {
     "data": {
      "text/html": [
       "\n",
       "<style>\n",
       "    /* Turns off some styling */\n",
       "    progress {\n",
       "        /* gets rid of default border in Firefox and Opera. */\n",
       "        border: none;\n",
       "        /* Needs to be in here for Safari polyfill so background images work as expected. */\n",
       "        background-size: auto;\n",
       "    }\n",
       "    progress:not([value]), progress:not([value])::-webkit-progress-bar {\n",
       "        background: repeating-linear-gradient(45deg, #7e7e7e, #7e7e7e 10px, #5c5c5c 10px, #5c5c5c 20px);\n",
       "    }\n",
       "    .progress-bar-interrupted, .progress-bar-interrupted::-webkit-progress-bar {\n",
       "        background: #F44336;\n",
       "    }\n",
       "</style>\n"
      ],
      "text/plain": [
       "<IPython.core.display.HTML object>"
      ]
     },
     "metadata": {},
     "output_type": "display_data"
    },
    {
     "data": {
      "text/html": [
       "\n",
       "    <div>\n",
       "      <progress value='44000' class='' max='44000' style='width:300px; height:20px; vertical-align: middle;'></progress>\n",
       "      100.00% [44000/44000 02:25&lt;00:00 Sampling 4 chains, 0 divergences]\n",
       "    </div>\n",
       "    "
      ],
      "text/plain": [
       "<IPython.core.display.HTML object>"
      ]
     },
     "metadata": {},
     "output_type": "display_data"
    },
    {
     "name": "stderr",
     "output_type": "stream",
     "text": [
      "Sampling 4 chains for 10_000 tune and 1_000 draw iterations (40_000 + 4_000 draws total) took 145 seconds.\n",
      "The number of effective samples is smaller than 25% for some parameters.\n",
      "/home/gergely/anaconda3/lib/python3.7/site-packages/pymc3/sampling.py:1618: UserWarning: samples parameter is smaller than nchains times ndraws, some draws and/or chains may not be represented in the returned posterior predictive sample\n",
      "  \"samples parameter is smaller than nchains times ndraws, some draws \"\n"
     ]
    },
    {
     "data": {
      "text/html": [
       "\n",
       "<style>\n",
       "    /* Turns off some styling */\n",
       "    progress {\n",
       "        /* gets rid of default border in Firefox and Opera. */\n",
       "        border: none;\n",
       "        /* Needs to be in here for Safari polyfill so background images work as expected. */\n",
       "        background-size: auto;\n",
       "    }\n",
       "    progress:not([value]), progress:not([value])::-webkit-progress-bar {\n",
       "        background: repeating-linear-gradient(45deg, #7e7e7e, #7e7e7e 10px, #5c5c5c 10px, #5c5c5c 20px);\n",
       "    }\n",
       "    .progress-bar-interrupted, .progress-bar-interrupted::-webkit-progress-bar {\n",
       "        background: #F44336;\n",
       "    }\n",
       "</style>\n"
      ],
      "text/plain": [
       "<IPython.core.display.HTML object>"
      ]
     },
     "metadata": {},
     "output_type": "display_data"
    },
    {
     "data": {
      "text/html": [
       "\n",
       "    <div>\n",
       "      <progress value='1000' class='' max='1000' style='width:300px; height:20px; vertical-align: middle;'></progress>\n",
       "      100.00% [1000/1000 00:01&lt;00:00]\n",
       "    </div>\n",
       "    "
      ],
      "text/plain": [
       "<IPython.core.display.HTML object>"
      ]
     },
     "metadata": {},
     "output_type": "display_data"
    },
    {
     "name": "stdout",
     "output_type": "stream",
     "text": [
      "EZH2_172-211 conc4\n",
      "3.7e-09\n"
     ]
    },
    {
     "name": "stderr",
     "output_type": "stream",
     "text": [
      "Auto-assigning NUTS sampler...\n",
      "Initializing NUTS using advi...\n"
     ]
    },
    {
     "data": {
      "text/html": [
       "\n",
       "<style>\n",
       "    /* Turns off some styling */\n",
       "    progress {\n",
       "        /* gets rid of default border in Firefox and Opera. */\n",
       "        border: none;\n",
       "        /* Needs to be in here for Safari polyfill so background images work as expected. */\n",
       "        background-size: auto;\n",
       "    }\n",
       "    progress:not([value]), progress:not([value])::-webkit-progress-bar {\n",
       "        background: repeating-linear-gradient(45deg, #7e7e7e, #7e7e7e 10px, #5c5c5c 10px, #5c5c5c 20px);\n",
       "    }\n",
       "    .progress-bar-interrupted, .progress-bar-interrupted::-webkit-progress-bar {\n",
       "        background: #F44336;\n",
       "    }\n",
       "</style>\n"
      ],
      "text/plain": [
       "<IPython.core.display.HTML object>"
      ]
     },
     "metadata": {},
     "output_type": "display_data"
    },
    {
     "data": {
      "text/html": [
       "\n",
       "    <div>\n",
       "      <progress value='28767' class='' max='200000' style='width:300px; height:20px; vertical-align: middle;'></progress>\n",
       "      14.38% [28767/200000 00:08&lt;00:49 Average Loss = -53,269]\n",
       "    </div>\n",
       "    "
      ],
      "text/plain": [
       "<IPython.core.display.HTML object>"
      ]
     },
     "metadata": {},
     "output_type": "display_data"
    },
    {
     "name": "stderr",
     "output_type": "stream",
     "text": [
      "Convergence achieved at 29400\n",
      "Interrupted at 29,399 [14%]: Average Loss = 2.3708e+08\n",
      "Multiprocess sampling (4 chains in 4 jobs)\n",
      "NUTS: [kr1, l0, eps, A, KD]\n"
     ]
    },
    {
     "data": {
      "text/html": [
       "\n",
       "<style>\n",
       "    /* Turns off some styling */\n",
       "    progress {\n",
       "        /* gets rid of default border in Firefox and Opera. */\n",
       "        border: none;\n",
       "        /* Needs to be in here for Safari polyfill so background images work as expected. */\n",
       "        background-size: auto;\n",
       "    }\n",
       "    progress:not([value]), progress:not([value])::-webkit-progress-bar {\n",
       "        background: repeating-linear-gradient(45deg, #7e7e7e, #7e7e7e 10px, #5c5c5c 10px, #5c5c5c 20px);\n",
       "    }\n",
       "    .progress-bar-interrupted, .progress-bar-interrupted::-webkit-progress-bar {\n",
       "        background: #F44336;\n",
       "    }\n",
       "</style>\n"
      ],
      "text/plain": [
       "<IPython.core.display.HTML object>"
      ]
     },
     "metadata": {},
     "output_type": "display_data"
    },
    {
     "data": {
      "text/html": [
       "\n",
       "    <div>\n",
       "      <progress value='44000' class='' max='44000' style='width:300px; height:20px; vertical-align: middle;'></progress>\n",
       "      100.00% [44000/44000 02:59&lt;00:00 Sampling 4 chains, 0 divergences]\n",
       "    </div>\n",
       "    "
      ],
      "text/plain": [
       "<IPython.core.display.HTML object>"
      ]
     },
     "metadata": {},
     "output_type": "display_data"
    },
    {
     "name": "stderr",
     "output_type": "stream",
     "text": [
      "Sampling 4 chains for 10_000 tune and 1_000 draw iterations (40_000 + 4_000 draws total) took 180 seconds.\n",
      "The number of effective samples is smaller than 10% for some parameters.\n",
      "/home/gergely/anaconda3/lib/python3.7/site-packages/pymc3/sampling.py:1618: UserWarning: samples parameter is smaller than nchains times ndraws, some draws and/or chains may not be represented in the returned posterior predictive sample\n",
      "  \"samples parameter is smaller than nchains times ndraws, some draws \"\n"
     ]
    },
    {
     "data": {
      "text/html": [
       "\n",
       "<style>\n",
       "    /* Turns off some styling */\n",
       "    progress {\n",
       "        /* gets rid of default border in Firefox and Opera. */\n",
       "        border: none;\n",
       "        /* Needs to be in here for Safari polyfill so background images work as expected. */\n",
       "        background-size: auto;\n",
       "    }\n",
       "    progress:not([value]), progress:not([value])::-webkit-progress-bar {\n",
       "        background: repeating-linear-gradient(45deg, #7e7e7e, #7e7e7e 10px, #5c5c5c 10px, #5c5c5c 20px);\n",
       "    }\n",
       "    .progress-bar-interrupted, .progress-bar-interrupted::-webkit-progress-bar {\n",
       "        background: #F44336;\n",
       "    }\n",
       "</style>\n"
      ],
      "text/plain": [
       "<IPython.core.display.HTML object>"
      ]
     },
     "metadata": {},
     "output_type": "display_data"
    },
    {
     "data": {
      "text/html": [
       "\n",
       "    <div>\n",
       "      <progress value='1000' class='' max='1000' style='width:300px; height:20px; vertical-align: middle;'></progress>\n",
       "      100.00% [1000/1000 00:01&lt;00:00]\n",
       "    </div>\n",
       "    "
      ],
      "text/plain": [
       "<IPython.core.display.HTML object>"
      ]
     },
     "metadata": {},
     "output_type": "display_data"
    }
   ],
   "source": [
    "resrows=[]\n",
    "peptides=['EZH2_172-211_INVERSE',\n",
    "          'EZH2_172-211',\n",
    "\n",
    "         ]\n",
    "concs=['conc1','conc2','conc3','conc4']\n",
    "str2conc={('EZH2_172-211_INVERSE','conc1'):21.2E-6,\n",
    "          ('EZH2_172-211_INVERSE','conc2'):2.12E-6,\n",
    "          ('EZH2_172-211_INVERSE','conc3'):2.12E-7,\n",
    "          ('EZH2_172-211_INVERSE','conc4'):2.12E-8,\n",
    "          ('EZH2_172-211','conc1'):100E-9,\n",
    "          ('EZH2_172-211','conc2'):33E-9,\n",
    "          ('EZH2_172-211','conc3'):11E-9,\n",
    "          ('EZH2_172-211','conc4'):3.7E-9,\n",
    "         }\n",
    "\n",
    "for peptide in peptides:\n",
    "    for conc in concs:\n",
    "        print (peptide,conc)\n",
    "        atime=np.array(np.array(tf[(tf.Peptide==peptide)&(tf.Type=='time')&(tf.Phase=='as')])[0,:-4],dtype='float')\n",
    "        atime=atime[~np.isnan(atime)]\n",
    "        aval=np.array(np.array(tf[(tf.Peptide==peptide)&(tf.Type=='pept')&(tf.Phase=='as')&(tf.Conc==conc)])[0,:-4],dtype='float')\n",
    "        aval=aval[~np.isnan(aval)]\n",
    "        x=np.array(atime)\n",
    "        y=aval\n",
    "        dtime=np.array(np.array(tf[(tf.Peptide==peptide)&(tf.Type=='time')&(tf.Phase=='dis')])[0,:-4],dtype='float')\n",
    "        dtime=dtime[~np.isnan(dtime)]\n",
    "        dval=np.array(np.array(tf[(tf.Peptide==peptide)&(tf.Type=='pept')&(tf.Phase=='dis')&(tf.Conc==conc)])[0,:-4],dtype='float')\n",
    "        dval=dval[~np.isnan(dval)]\n",
    "\n",
    "        xd=np.array(dtime)\n",
    "        yd=dval\n",
    "          \n",
    "        c=str2conc[(peptide,conc)]\n",
    "        print(c)\n",
    "        with pm.Model() as model2:\n",
    "            KD=pm.Uniform('KD',1E-15,1E-3)\n",
    "            A=pm.Uniform('A',1E-6,10)\n",
    "            eps=pm.Uniform('eps',1E-6,1)\n",
    "            l0=pm.TruncatedNormal('l0',mu=np.mean(dval[0:5]),sigma=np.std(dval[0:5])/10,lower=0)\n",
    "            \n",
    "            kr1=pm.Uniform('kr1',1E-20,10)\n",
    "            k1=pm.Deterministic('k1',kr1/KD)\n",
    "            pred = pm.Normal('pred', mu=A*c*(1-pm.math.exp(-1.0*x*(k1*c+kr1)))/(KD+c), sd=eps, observed=np.array(y))\n",
    "            pred2 = pm.Normal('pred2', mu=l0*(pm.math.exp(-1.0*xd*kr1)), sd=eps, observed=np.array(yd))\n",
    "\n",
    "        with model2:\n",
    "            trace2 = pm.sampling.sample(tune=10000,init='advi')\n",
    "            resrow={}\n",
    "            resrow['Peptide']=peptide\n",
    "            resrow['Conc']=conc\n",
    "            resrow['Phase']='full'\n",
    "            resrow['MCMC']='trace'\n",
    "            resrow['Model']='1exp'\n",
    "            resrow['Pymodel']=model2\n",
    "            resrow['Data']=trace2\n",
    "            resrow['X']=x\n",
    "            resrow['Y']=y\n",
    "            resrows.append(resrow)\n",
    "\n",
    "        with model2:\n",
    "            ppc2 = pm.sample_posterior_predictive(trace2, samples=1000 ,model=model2)\n",
    "            resrow={}\n",
    "            resrow['Peptide']=peptide\n",
    "            resrow['Conc']=conc\n",
    "            resrow['Phase']='full'\n",
    "            resrow['MCMC']='ppc'\n",
    "            resrow['Model']='1exp'\n",
    "            resrow['Pymodel']=model2\n",
    "            resrow['Data']=ppc2\n",
    "            resrows.append(resrow)\n",
    "        \n",
    "resdf=pd.DataFrame(resrows)"
   ]
  },
  {
   "cell_type": "code",
   "execution_count": 60,
   "metadata": {},
   "outputs": [
    {
     "data": {
      "text/html": [
       "<div>\n",
       "<style scoped>\n",
       "    .dataframe tbody tr th:only-of-type {\n",
       "        vertical-align: middle;\n",
       "    }\n",
       "\n",
       "    .dataframe tbody tr th {\n",
       "        vertical-align: top;\n",
       "    }\n",
       "\n",
       "    .dataframe thead th {\n",
       "        text-align: right;\n",
       "    }\n",
       "</style>\n",
       "<table border=\"1\" class=\"dataframe\">\n",
       "  <thead>\n",
       "    <tr style=\"text-align: right;\">\n",
       "      <th></th>\n",
       "      <th>Peptide</th>\n",
       "      <th>Concentration</th>\n",
       "      <th>Phase</th>\n",
       "      <th>Model</th>\n",
       "      <th>A</th>\n",
       "      <th>KD</th>\n",
       "      <th>l0</th>\n",
       "      <th>kr1</th>\n",
       "      <th>k1</th>\n",
       "      <th>eps</th>\n",
       "    </tr>\n",
       "  </thead>\n",
       "  <tbody>\n",
       "    <tr>\n",
       "      <th>0</th>\n",
       "      <td>EZH2_172-211</td>\n",
       "      <td>conc1</td>\n",
       "      <td>full</td>\n",
       "      <td>1exp</td>\n",
       "      <td>2.3E-01±1.1E-04</td>\n",
       "      <td>7.0E-10±6.7E-12</td>\n",
       "      <td>2.3E-01±7.5E-05</td>\n",
       "      <td>2.3E-01±7.5E-05</td>\n",
       "      <td>5.0E+04±8.4E+01</td>\n",
       "      <td>3.5E-03±2.0E-05</td>\n",
       "    </tr>\n",
       "    <tr>\n",
       "      <th>1</th>\n",
       "      <td>EZH2_172-211</td>\n",
       "      <td>conc2</td>\n",
       "      <td>full</td>\n",
       "      <td>1exp</td>\n",
       "      <td>1.1E-01±1.8E-04</td>\n",
       "      <td>3.5E-10±6.5E-12</td>\n",
       "      <td>1.0E-01±5.9E-05</td>\n",
       "      <td>1.0E-01±5.9E-05</td>\n",
       "      <td>8.8E+04±3.3E+02</td>\n",
       "      <td>2.9E-03±1.7E-05</td>\n",
       "    </tr>\n",
       "    <tr>\n",
       "      <th>2</th>\n",
       "      <td>EZH2_172-211</td>\n",
       "      <td>conc3</td>\n",
       "      <td>full</td>\n",
       "      <td>1exp</td>\n",
       "      <td>5.5E-02±5.5E-04</td>\n",
       "      <td>6.1E-10±1.4E-11</td>\n",
       "      <td>4.0E-02±4.5E-05</td>\n",
       "      <td>4.0E-02±4.5E-05</td>\n",
       "      <td>1.3E+05±2.2E+03</td>\n",
       "      <td>2.9E-03±1.8E-05</td>\n",
       "    </tr>\n",
       "    <tr>\n",
       "      <th>3</th>\n",
       "      <td>EZH2_172-211</td>\n",
       "      <td>conc4</td>\n",
       "      <td>full</td>\n",
       "      <td>1exp</td>\n",
       "      <td>1.8E-01±2.1E-01</td>\n",
       "      <td>6.7E-04±2.4E-04</td>\n",
       "      <td>3.9E-07±3.8E-07</td>\n",
       "      <td>3.9E-07±3.8E-07</td>\n",
       "      <td>1.1E+04±2.5E+04</td>\n",
       "      <td>4.3E-03±2.7E-05</td>\n",
       "    </tr>\n",
       "    <tr>\n",
       "      <th>4</th>\n",
       "      <td>EZH2_172-211_INVERSE</td>\n",
       "      <td>conc1</td>\n",
       "      <td>full</td>\n",
       "      <td>1exp</td>\n",
       "      <td>1.3E-01±1.2E-03</td>\n",
       "      <td>1.9E-09±1.3E-09</td>\n",
       "      <td>7.0E-02±3.1E-05</td>\n",
       "      <td>7.0E-02±3.1E-05</td>\n",
       "      <td>4.5E+01±5.9E-01</td>\n",
       "      <td>3.0E-03±1.9E-05</td>\n",
       "    </tr>\n",
       "    <tr>\n",
       "      <th>5</th>\n",
       "      <td>EZH2_172-211_INVERSE</td>\n",
       "      <td>conc2</td>\n",
       "      <td>full</td>\n",
       "      <td>1exp</td>\n",
       "      <td>3.6E-02±1.8E-04</td>\n",
       "      <td>3.1E-11±2.1E-11</td>\n",
       "      <td>3.9E-02±3.7E-05</td>\n",
       "      <td>3.9E-02±3.7E-05</td>\n",
       "      <td>1.6E+03±2.0E+01</td>\n",
       "      <td>3.8E-03±2.3E-05</td>\n",
       "    </tr>\n",
       "    <tr>\n",
       "      <th>6</th>\n",
       "      <td>EZH2_172-211_INVERSE</td>\n",
       "      <td>conc3</td>\n",
       "      <td>full</td>\n",
       "      <td>1exp</td>\n",
       "      <td>2.1E-02±7.2E-04</td>\n",
       "      <td>1.0E-11±6.7E-12</td>\n",
       "      <td>2.4E-02±4.5E-05</td>\n",
       "      <td>2.4E-02±4.5E-05</td>\n",
       "      <td>7.5E+03±4.2E+02</td>\n",
       "      <td>4.3E-03±2.7E-05</td>\n",
       "    </tr>\n",
       "    <tr>\n",
       "      <th>7</th>\n",
       "      <td>EZH2_172-211_INVERSE</td>\n",
       "      <td>conc4</td>\n",
       "      <td>full</td>\n",
       "      <td>1exp</td>\n",
       "      <td>8.0E-03±3.6E-04</td>\n",
       "      <td>2.8E-12±2.1E-12</td>\n",
       "      <td>9.7E-03±3.4E-05</td>\n",
       "      <td>9.7E-03±3.4E-05</td>\n",
       "      <td>9.0E+04±7.2E+03</td>\n",
       "      <td>3.3E-03±2.0E-05</td>\n",
       "    </tr>\n",
       "  </tbody>\n",
       "</table>\n",
       "</div>"
      ],
      "text/plain": [
       "                Peptide Concentration Phase Model                A  \\\n",
       "0          EZH2_172-211         conc1  full  1exp  2.3E-01±1.1E-04   \n",
       "1          EZH2_172-211         conc2  full  1exp  1.1E-01±1.8E-04   \n",
       "2          EZH2_172-211         conc3  full  1exp  5.5E-02±5.5E-04   \n",
       "3          EZH2_172-211         conc4  full  1exp  1.8E-01±2.1E-01   \n",
       "4  EZH2_172-211_INVERSE         conc1  full  1exp  1.3E-01±1.2E-03   \n",
       "5  EZH2_172-211_INVERSE         conc2  full  1exp  3.6E-02±1.8E-04   \n",
       "6  EZH2_172-211_INVERSE         conc3  full  1exp  2.1E-02±7.2E-04   \n",
       "7  EZH2_172-211_INVERSE         conc4  full  1exp  8.0E-03±3.6E-04   \n",
       "\n",
       "                KD               l0              kr1               k1  \\\n",
       "0  7.0E-10±6.7E-12  2.3E-01±7.5E-05  2.3E-01±7.5E-05  5.0E+04±8.4E+01   \n",
       "1  3.5E-10±6.5E-12  1.0E-01±5.9E-05  1.0E-01±5.9E-05  8.8E+04±3.3E+02   \n",
       "2  6.1E-10±1.4E-11  4.0E-02±4.5E-05  4.0E-02±4.5E-05  1.3E+05±2.2E+03   \n",
       "3  6.7E-04±2.4E-04  3.9E-07±3.8E-07  3.9E-07±3.8E-07  1.1E+04±2.5E+04   \n",
       "4  1.9E-09±1.3E-09  7.0E-02±3.1E-05  7.0E-02±3.1E-05  4.5E+01±5.9E-01   \n",
       "5  3.1E-11±2.1E-11  3.9E-02±3.7E-05  3.9E-02±3.7E-05  1.6E+03±2.0E+01   \n",
       "6  1.0E-11±6.7E-12  2.4E-02±4.5E-05  2.4E-02±4.5E-05  7.5E+03±4.2E+02   \n",
       "7  2.8E-12±2.1E-12  9.7E-03±3.4E-05  9.7E-03±3.4E-05  9.0E+04±7.2E+03   \n",
       "\n",
       "               eps  \n",
       "0  3.5E-03±2.0E-05  \n",
       "1  2.9E-03±1.7E-05  \n",
       "2  2.9E-03±1.8E-05  \n",
       "3  4.3E-03±2.7E-05  \n",
       "4  3.0E-03±1.9E-05  \n",
       "5  3.8E-03±2.3E-05  \n",
       "6  4.3E-03±2.7E-05  \n",
       "7  3.3E-03±2.0E-05  "
      ]
     },
     "execution_count": 60,
     "metadata": {},
     "output_type": "execute_result"
    }
   ],
   "source": [
    "rrows=[]\n",
    "peptides=['EZH2_172-211','EZH2_172-211_INVERSE',\n",
    "          #\"SUZ12_573-597\",\"EED_128-152\",\"JARID2_170-194\"\n",
    "         ]\n",
    "concs=['conc1','conc2','conc3','conc4']\n",
    "\n",
    "for peptide in peptides:\n",
    "    for conc in concs:\n",
    "        trace2=resdf[(resdf.Peptide==peptide)&(resdf.Conc==conc)&(resdf.Phase=='full')&(resdf.MCMC=='trace')&(resdf.Model=='1exp')]['Data']\n",
    "        trace2=trace2.iloc[0]\n",
    "        row={}\n",
    "        row['Peptide']=peptide\n",
    "        row['Concentration']=conc\n",
    "        row['Phase']='full'\n",
    "        row['Model']='1exp'\n",
    "        row['A']='%4.1E±%4.1E' % (np.mean(trace2['A']),np.std(trace2['A']))\n",
    "        row['KD']='%4.1E±%4.1E' % (np.mean(trace2['KD']),np.std(trace2['KD']))\n",
    "        row['l0']='%4.1E±%4.1E' % (np.mean(trace2['l0']),np.std(trace2['l0']))\n",
    "        row['kr1']='%4.1E±%4.1E' % (np.mean(trace2['l0']),np.std(trace2['l0']))\n",
    "        row['k1']='%4.1E±%4.1E' % (np.mean(trace2['k1']),np.std(trace2['k1']))\n",
    "        row['eps']='%4.1E±%4.1E' % (np.mean(trace2['eps']),np.std(trace2['eps']))\n",
    "\n",
    "        rrows.append(row)\n",
    "\n",
    "\n",
    "rdf=pd.DataFrame(rrows)\n",
    "rdf.to_excel('BLI_table_sd.xlsx')\n",
    "rdf"
   ]
  },
  {
   "cell_type": "code",
   "execution_count": 65,
   "metadata": {},
   "outputs": [
    {
     "name": "stdout",
     "output_type": "stream",
     "text": [
      "Using matplotlib backend: Qt5Agg\n"
     ]
    }
   ],
   "source": [
    "%matplotlib\n",
    "peptides=[\n",
    "        'EZH2_172-211', 'EZH2_172-211_INVERSE',\n",
    "         ]\n",
    "\n",
    "\n",
    "astime=900\n",
    "for peptide in peptides:\n",
    "    plt.rcParams.update({'font.size': 8})\n",
    "    fig,ax=plt.subplots(4,2,dpi=300,constrained_layout=True,sharex=True,sharey=True)\n",
    "    for idx2,expo in enumerate(['1exp',\n",
    "                                #'2exp'\n",
    "                               ]):\n",
    "        for idx,conc in enumerate([\n",
    "                                    'conc1',\n",
    "                                   'conc2','conc3','conc4',\n",
    "\n",
    "                                    ]):\n",
    "            atime=np.array(np.array(tf[(tf.Peptide==peptide)&(tf.Type=='time')&(tf.Phase=='as')])[0,:-4],dtype='float')\n",
    "            atime=atime[~np.isnan(atime)]\n",
    "\n",
    "            aval=np.array(np.array(tf[(tf.Peptide==peptide)&(tf.Type=='pept')&(tf.Phase=='as')&(tf.Conc==conc)])[0,:-4],dtype='float')\n",
    "            aval=aval[~np.isnan(aval)]\n",
    "\n",
    "            dtime=np.array(np.array(tf[(tf.Peptide==peptide)&(tf.Type=='time')&(tf.Phase=='dis')])[0,:-4],dtype='float')\n",
    "            dtime=dtime[~np.isnan(dtime)]\n",
    "\n",
    "            dval=np.array(np.array(tf[(tf.Peptide==peptide)&(tf.Type=='pept')&(tf.Phase=='dis')&(tf.Conc==conc)])[0,:-4],dtype='float')\n",
    "            dval=dval[~np.isnan(dval)]\n",
    "\n",
    "            x=np.concatenate([atime,dtime+astime])\n",
    "            y=np.concatenate([aval,dval])\n",
    "            ppc_as=resdf[(resdf.Peptide==peptide)&(resdf.Conc==conc)&(resdf.Phase=='full')&(resdf.MCMC=='ppc')&(resdf.Model==expo)]['Data']\n",
    "            ppc_dis=resdf[(resdf.Peptide==peptide)&(resdf.Conc==conc)&(resdf.Phase=='full')&(resdf.MCMC=='ppc')&(resdf.Model==expo)]['Data']\n",
    "            ppc=np.concatenate([np.array(ppc_as.iloc[0]['pred']),np.array(ppc_dis.iloc[0]['pred2'])],axis=1)\n",
    "            ax[idx,idx2].plot(x,y-np.mean(ppc, axis=0), color='gray')\n",
    "            ax[idx,idx2].plot(x,np.zeros(len(x)), color='r')\n",
    "\n",
    "            ax[idx,0].set_ylabel(r'$\\Delta\\lambda\\ (nm)$')\n",
    "            ax[idx,idx2].axvline(x=900,linestyle='--')\n",
    "    ax[idx,0].set_xlabel(r'$Time\\ (s)$')\n",
    "    ax[idx,1].set_xlabel(r'$Time\\ (s)$')\n",
    "    \n",
    "    plt.savefig('Langmuir_residual_%s.png' %(peptide))"
   ]
  },
  {
   "cell_type": "code",
   "execution_count": null,
   "metadata": {},
   "outputs": [],
   "source": [
    "%matplotlib\n",
    "peptides=[\n",
    "          'EZH2_172-211','EZH2_172-211_INVERSE',\n",
    "         ]\n",
    "\n",
    "ccol_C={'conc1_C':cmap(0),\n",
    "      'conc2_C':cmap(0.33),\n",
    "      'conc3_C':cmap(0.66),\n",
    "      'conc4_C':cmap(1.0),\n",
    "\n",
    "     }\n",
    "\n",
    "cdict_C={('EZH2_172-211','conc1_C'):r'$100\\ nM$',\n",
    "       ('EZH2_172-211','conc2_C'):r'$33\\ nM$',\n",
    "       ('EZH2_172-211','conc3_C'):r'$11\\ nM$',\n",
    "       ('EZH2_172-211','conc4_C'):r'$3.7\\ nM$',\n",
    "       ('EZH2_172-211','conc5_C'):r'$1.2\\ nM$',\n",
    "       ('EZH2_172-211_INVERSE','conc1_C'):r'$210\\ μM$',\n",
    "       ('EZH2_172-211_INVERSE','conc2_C'):r'$21\\ μM$',\n",
    "       ('EZH2_172-211_INVERSE','conc3_C'):r'$2.1\\ μM$',\n",
    "       ('EZH2_172-211_INVERSE','conc4_C'):r'$210\\ nM$',\n",
    "       ('EZH2_172-211_INVERSE','conc5_C'):r'$21\\ nM$',\n",
    "      }\n",
    "\n",
    "\n",
    "astime=900\n",
    "\n",
    "for peptide in peptides:\n",
    "    plt.rcParams.update({'font.size': 16})\n",
    "    fig,ax=plt.subplots(dpi=300,constrained_layout=True)\n",
    "    clst=[]\n",
    "    for idx,conc in enumerate(['conc1_C','conc2_C','conc3_C','conc4_C']):\n",
    "        x=np.array(np.array(tf[(tf.Peptide==peptide)&(tf.Type=='time')&(tf.Phase=='full')])[0,:-4],dtype='float')\n",
    "        y=np.array(np.array(tf[(tf.Peptide==peptide)&(tf.Type=='ctrl')&(tf.Conc==conc)])[0,:-4],dtype='float')\n",
    "        ax.plot(x[::20],y[::20],c=ccol_C[conc])\n",
    "        ax.set_xlabel(r'$Time\\ (s)$')\n",
    "        ax.set_ylabel(r'$\\Delta\\lambda\\ (nm)$')\n",
    "        clst.append(cdict_C[(peptide,conc)])\n",
    "    plt.rcParams.update({'font.size': 12})\n",
    "    plt.legend(clst)\n",
    "    plt.savefig('Langmuir_ctrl_%s.png' %(peptide))"
   ]
  },
  {
   "cell_type": "code",
   "execution_count": 64,
   "metadata": {},
   "outputs": [
    {
     "name": "stdout",
     "output_type": "stream",
     "text": [
      "Using matplotlib backend: Qt5Agg\n"
     ]
    }
   ],
   "source": [
    "%matplotlib\n",
    "from matplotlib.ticker import FormatStrFormatter\n",
    "peptides=[\n",
    "          'EZH2_172-211', 'EZH2_172-211_INVERSE',\n",
    "\n",
    "         ]\n",
    "\n",
    "ccol_C={'conc1_C':cmap(0),\n",
    "      'conc2_C':cmap(0.33),\n",
    "      'conc3_C':cmap(0.66),\n",
    "      'conc4_C':cmap(1.0),\n",
    "     }\n",
    "\n",
    "cdict_C={('EZH2_172-211','conc1'):r'$100\\ nM\\ survivin$',\n",
    "       ('EZH2_172-211','conc2'):r'$33\\ nM\\ survivin$',\n",
    "       ('EZH2_172-211','conc3'):r'$11\\ nM\\ survivin$',\n",
    "       ('EZH2_172-211','conc4'):r'$3.7\\ nM\\ survivin$',\n",
    "       ('EZH2_172-211','conc5'):r'$1.2\\ nM\\ survivin$',\n",
    "       ('EZH2_172-211_INVERSE','conc1'):r'$21.2\\ μM\\ EZH2_{172-211}$',\n",
    "       ('EZH2_172-211_INVERSE','conc2'):r'$2.12\\ μM\\ EZH2_{172-211}$',\n",
    "       ('EZH2_172-211_INVERSE','conc3'):r'$212\\ nM\\ EZH2_{172-211}$',\n",
    "       ('EZH2_172-211_INVERSE','conc4'):r'$21.2\\ nM\\ EZH2_{172-211}$',\n",
    "      }\n",
    "cdict={('EZH2_172-211','conc1'):r'$100\\ nM\\ survivin$',\n",
    "       ('EZH2_172-211','conc2'):r'$33\\ nM\\ survivin$',\n",
    "       ('EZH2_172-211','conc3'):r'$11\\ nM\\ survivin$',\n",
    "       ('EZH2_172-211','conc4'):r'$3.7\\ nM\\ survivin$',\n",
    "       ('EZH2_172-211','conc5'):r'$1.2\\ nM\\ survivin$',\n",
    "       ('EZH2_172-211_INVERSE','conc1'):r'$21.2\\ μM\\ EZH2_{172-211}$',\n",
    "       ('EZH2_172-211_INVERSE','conc2'):r'$2.12\\ μM\\ EZH2_{172-211}$',\n",
    "       ('EZH2_172-211_INVERSE','conc3'):r'$212\\ nM\\ EZH2_{172-211}$',\n",
    "       ('EZH2_172-211_INVERSE','conc4'):r'$21.2\\ nM\\ EZH2_{172-211}$',\n",
    "      }\n",
    "\n",
    "cmap = cm.get_cmap('cool')\n",
    "ccol={'conc1':cmap(0),\n",
    "      'conc2':cmap(0.33),\n",
    "      'conc3':cmap(0.66),\n",
    "      'conc4':cmap(1.0),\n",
    "     }\n",
    "\n",
    "\n",
    "expo='1exp'\n",
    "astime=900\n",
    "\n",
    "for peptide in peptides:\n",
    "    plt.rcParams.update({'font.size': 16})\n",
    "    fig,ax=plt.subplots(nrows=1,ncols=2,figsize=(15,5), dpi=300,constrained_layout=True, sharey=True)\n",
    "    clst=[]\n",
    "    for idx,conc in enumerate([\n",
    "                                'conc1',\n",
    "                               'conc2','conc3','conc4',\n",
    "                                #'conc5'\n",
    "                                ]):\n",
    "        atime=np.array(np.array(tf[(tf.Peptide==peptide)&(tf.Type=='time')&(tf.Phase=='as')])[0,:-4],dtype='float')\n",
    "        atime=atime[~np.isnan(atime)]\n",
    "\n",
    "        aval=np.array(np.array(tf[(tf.Peptide==peptide)&(tf.Type=='pept')&(tf.Phase=='as')&(tf.Conc==conc)])[0,:-4],dtype='float')\n",
    "        aval=aval[~np.isnan(aval)]\n",
    "        \n",
    "        dtime=np.array(np.array(tf[(tf.Peptide==peptide)&(tf.Type=='time')&(tf.Phase=='dis')])[0,:-4],dtype='float')\n",
    "        dtime=dtime[~np.isnan(dtime)]\n",
    "        \n",
    "        dval=np.array(np.array(tf[(tf.Peptide==peptide)&(tf.Type=='pept')&(tf.Phase=='dis')&(tf.Conc==conc)])[0,:-4],dtype='float')\n",
    "        dval=dval[~np.isnan(dval)]\n",
    "\n",
    "        x=np.concatenate([atime,dtime+astime])\n",
    "        y=np.concatenate([aval,dval])\n",
    "        ppc_as=resdf[(resdf.Peptide==peptide)&(resdf.Conc==conc)&(resdf.Phase=='full')&(resdf.MCMC=='ppc')&(resdf.Model==expo)]['Data']\n",
    "        ppc_dis=resdf[(resdf.Peptide==peptide)&(resdf.Conc==conc)&(resdf.Phase=='full')&(resdf.MCMC=='ppc')&(resdf.Model==expo)]['Data']\n",
    "        ppc=np.concatenate([np.array(ppc_as.iloc[0]['pred']),np.array(ppc_dis.iloc[0]['pred2'])],axis=1)\n",
    "        ax[0].plot(x[::20],y[::20], color='k',label='_nolegend_',alpha=0.5)\n",
    "        ax[0].plot(x,np.mean(ppc, axis=0),c=ccol[conc])\n",
    "        ax[0].set_xlabel(r'$Time\\ (s)$')\n",
    "        ax[0].set_ylabel(r'$\\Delta\\lambda\\ (nm)$')\n",
    "        clst.append(cdict[(peptide,conc)])\n",
    "        \n",
    "\n",
    "    \n",
    "    plt.rcParams.update({'font.size': 16})\n",
    "\n",
    "    for idx,conc in enumerate([\n",
    "                                'conc1_C',\n",
    "                               'conc2_C','conc3_C','conc4_C',\n",
    "\n",
    "                                ]):\n",
    "\n",
    "        x=np.array(np.array(tf[(tf.Peptide==peptide)&(tf.Type=='time')&(tf.Phase=='full')])[0,:-4],dtype='float')\n",
    "        y=np.array(np.array(tf[(tf.Peptide==peptide)&(tf.Type=='ctrl')&(tf.Conc==conc)])[0,:-4],dtype='float')\n",
    "        ax[1].plot(x[::20],y[::20],c=ccol_C[conc])\n",
    "        ax[1].set_xlabel(r'$Time\\ (s)$')\n",
    "        ax[1].set_ylabel(r'$\\Delta\\lambda\\ (nm)$')\n",
    "        plt.tick_params('y', labelleft=True)\n",
    "       \n",
    "    plt.rcParams.update({'font.size': 12})\n",
    "    plt.legend(clst)\n",
    "    ax[1].axvline(x=900,linestyle='--',c='k')\n",
    "    ax[0].axvline(x=900,linestyle='--',c='k')\n",
    "    \n",
    "    ax[0].yaxis.set_major_formatter(FormatStrFormatter('%.2f'))\n",
    "    ax[1].yaxis.set_major_formatter(FormatStrFormatter('%.2f'))\n",
    "    plt.savefig('Langmuir_ppc_ctrl_%s_%s.png' %(peptide,expo))\n"
   ]
  },
  {
   "cell_type": "code",
   "execution_count": 74,
   "metadata": {
    "scrolled": true
   },
   "outputs": [
    {
     "name": "stderr",
     "output_type": "stream",
     "text": [
      "/home/gergely/anaconda3/lib/python3.7/site-packages/arviz/data/io_pymc3.py:91: FutureWarning: Using `from_pymc3` without the model will be deprecated in a future release. Not using the model will return less accurate and less useful results. Make sure you use the model argument or call from_pymc3 within a model context.\n",
      "  FutureWarning,\n"
     ]
    },
    {
     "data": {
      "text/plain": [
       "array([[<AxesSubplot:title={'center':'KD'}>,\n",
       "        <AxesSubplot:title={'center':'KD'}>],\n",
       "       [<AxesSubplot:title={'center':'A'}>,\n",
       "        <AxesSubplot:title={'center':'A'}>],\n",
       "       [<AxesSubplot:title={'center':'eps'}>,\n",
       "        <AxesSubplot:title={'center':'eps'}>],\n",
       "       [<AxesSubplot:title={'center':'l0'}>,\n",
       "        <AxesSubplot:title={'center':'l0'}>],\n",
       "       [<AxesSubplot:title={'center':'kr1'}>,\n",
       "        <AxesSubplot:title={'center':'kr1'}>],\n",
       "       [<AxesSubplot:title={'center':'k1'}>,\n",
       "        <AxesSubplot:title={'center':'k1'}>]], dtype=object)"
      ]
     },
     "execution_count": 74,
     "metadata": {},
     "output_type": "execute_result"
    }
   ],
   "source": [
    "peptide='EZH2_172-211_INVERSE'\n",
    "#peptide='EZH2_172-211'\n",
    "\n",
    "conc='conc4'\n",
    "trace=resdf[(resdf.Peptide==peptide)&(resdf.Conc==conc)&(resdf.Phase=='full')&(resdf.MCMC=='trace')&(resdf.Model=='1exp')]['Data'].iloc[0]\n",
    "pm.traceplot(trace)"
   ]
  },
  {
   "cell_type": "code",
   "execution_count": null,
   "metadata": {},
   "outputs": [],
   "source": []
  }
 ],
 "metadata": {
  "kernelspec": {
   "display_name": "Python 3",
   "language": "python",
   "name": "python3"
  },
  "language_info": {
   "codemirror_mode": {
    "name": "ipython",
    "version": 3
   },
   "file_extension": ".py",
   "mimetype": "text/x-python",
   "name": "python",
   "nbconvert_exporter": "python",
   "pygments_lexer": "ipython3",
   "version": "3.8.3"
  }
 },
 "nbformat": 4,
 "nbformat_minor": 5
}
